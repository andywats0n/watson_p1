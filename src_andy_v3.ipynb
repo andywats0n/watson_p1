{
 "cells": [
  {
   "cell_type": "code",
   "execution_count": 1,
   "metadata": {},
   "outputs": [],
   "source": [
    "# Dependencies\n",
    "import sys\n",
    "import time\n",
    "import json\n",
    "import requests\n",
    "import importlib\n",
    "import numpy as np\n",
    "import pandas as pd\n",
    "from pprint import pprint\n",
    "import matplotlib.pyplot as plt\n",
    "from config import gkey, zkey, zws_id, akey"
   ]
  },
  {
   "cell_type": "code",
   "execution_count": 2,
   "metadata": {},
   "outputs": [],
   "source": [
    "# get list of zipcodes\n",
    "%run ./write_zips.ipynb\n",
    "import zipcodes\n",
    "importlib.reload(zipcodes)\n",
    "zip_codes = zipcodes.ziplist"
   ]
  },
  {
   "cell_type": "code",
   "execution_count": 3,
   "metadata": {},
   "outputs": [],
   "source": [
    "# global variables\n",
    "loading = '.'"
   ]
  },
  {
   "cell_type": "code",
   "execution_count": 4,
   "metadata": {},
   "outputs": [],
   "source": [
    "# get http request headers\n",
    "def getHeaders():\n",
    "    headers = {\n",
    "        \"apikey\":akey,\n",
    "        \"accept\":\"application/json\"\n",
    "    }\n",
    "    return headers\n",
    "\n",
    "\n",
    "# GET /property/address via zip code\n",
    "def fetch(url, params):\n",
    "    headers = getHeaders()\n",
    "    res = requests.get(url, headers=headers, params=params).json()\n",
    "    return res\n",
    "\n",
    "\n",
    "# show load bar and wait for next request\n",
    "def wait(t):\n",
    "    sys.stdout.write(loading)\n",
    "    sys.stdout.flush()\n",
    "    time.sleep(t)"
   ]
  },
  {
   "cell_type": "code",
   "execution_count": 5,
   "metadata": {
    "scrolled": true
   },
   "outputs": [
    {
     "name": "stdout",
     "output_type": "stream",
     "text": [
      "getting properties........................................"
     ]
    }
   ],
   "source": [
    "# get properties for each zip code (10 queries/min)\n",
    "url = \"https://search.onboard-apis.com/propertyapi/v1.0.0/property/address?\"\n",
    "sys.stdout.write('getting properties..')\n",
    "property_results = []\n",
    "\n",
    "for z in zip_codes:\n",
    "    params = {\n",
    "        \"postalcode\": z,\n",
    "        \"propertytype\":\"RESIDENTIAL (NEC)\",\n",
    "        \"pagesize\":\"100\"\n",
    "    }\n",
    "    \n",
    "    res = fetch(url, params)\n",
    "    \n",
    "    property_results.append(res)\n",
    "    wait(10)"
   ]
  },
  {
   "cell_type": "code",
   "execution_count": 118,
   "metadata": {},
   "outputs": [],
   "source": [
    "# get attomIds from property results\n",
    "properties = []\n",
    "\n",
    "for p in property_results:\n",
    "    for q in p['property']:\n",
    "        properties.append(q)\n",
    "\n",
    "props_df = pd.DataFrame(properties)\n",
    "attomId_series = props_df['identifier']\n",
    "\n",
    "attomIds = []\n",
    "for a in attomId_df:\n",
    "    attomIds.append(a['attomId'])"
   ]
  },
  {
   "cell_type": "code",
   "execution_count": 29,
   "metadata": {
    "scrolled": false
   },
   "outputs": [
    {
     "name": "stdout",
     "output_type": "stream",
     "text": [
      "getting home values......................................................................................"
     ]
    }
   ],
   "source": [
    "# get home values for each property (10 queries/min)\n",
    "url = \"https://search.onboard-apis.com/propertyapi/v1.0.0/property/basicprofile?\"\n",
    "sys.stdout.write(\"getting home values..\")\n",
    "hv_results = []\n",
    "\n",
    "for a in attomIds:\n",
    "    params = {\n",
    "        \"attomId\": a,\n",
    "        \"page\":\"1\",\n",
    "        \"pagesize\":\"100\"\n",
    "    }\n",
    "\n",
    "    idres = fetch(url, params)\n",
    "    hv_results.append(idres)    \n",
    "    wait(10)"
   ]
  },
  {
   "cell_type": "code",
   "execution_count": 327,
   "metadata": {
    "scrolled": true
   },
   "outputs": [
    {
     "data": {
      "text/html": [
       "<div>\n",
       "<style scoped>\n",
       "    .dataframe tbody tr th:only-of-type {\n",
       "        vertical-align: middle;\n",
       "    }\n",
       "\n",
       "    .dataframe tbody tr th {\n",
       "        vertical-align: top;\n",
       "    }\n",
       "\n",
       "    .dataframe thead th {\n",
       "        text-align: right;\n",
       "    }\n",
       "</style>\n",
       "<table border=\"1\" class=\"dataframe\">\n",
       "  <thead>\n",
       "    <tr style=\"text-align: right;\">\n",
       "      <th></th>\n",
       "      <th>zipcode</th>\n",
       "      <th>mkt_val</th>\n",
       "    </tr>\n",
       "  </thead>\n",
       "  <tbody>\n",
       "    <tr>\n",
       "      <th>0</th>\n",
       "      <td>30303</td>\n",
       "      <td>224485.714286</td>\n",
       "    </tr>\n",
       "    <tr>\n",
       "      <th>1</th>\n",
       "      <td>30312</td>\n",
       "      <td>785823.809524</td>\n",
       "    </tr>\n",
       "  </tbody>\n",
       "</table>\n",
       "</div>"
      ],
      "text/plain": [
       "  zipcode        mkt_val\n",
       "0   30303  224485.714286\n",
       "1   30312  785823.809524"
      ]
     },
     "execution_count": 327,
     "metadata": {},
     "output_type": "execute_result"
    }
   ],
   "source": [
    "prop_res = pd.DataFrame(hv_results)\n",
    "props = prop_res['property']\n",
    "zmkv = []\n",
    "\n",
    "for i in range(len(props)):\n",
    "    zmkv.append({\"zipcode\":props[i][0]['address']['postal1'], \"mkt_val\":props[i][0]['assessment']['market']['mktTtlValue']})\n",
    "\n",
    "zip_mktval_df = pd.DataFrame(zmkv).set_index('zipcode')\n",
    "\n",
    "mkt_sum = zip_mktval_df.groupby('zipcode').sum()/len(props)\n",
    "zc_mkt_df = pd.DataFrame(mkt_sum)\n",
    "zc_mkt_df = zc_mkt_df.reset_index()\n",
    "    \n",
    "# zc_mkt_df = zc_mkt_df.style.format({'mkt_val':'${:,.2f}'})\n",
    "# for i in zc_mkt_df\n",
    "zc_mkt_df"
   ]
  },
  {
   "cell_type": "code",
   "execution_count": null,
   "metadata": {},
   "outputs": [],
   "source": []
  },
  {
   "cell_type": "code",
   "execution_count": 51,
   "metadata": {},
   "outputs": [],
   "source": [
    "# pprint(hv_results[0]['property'][0]['address']['postal1'])\n",
    "# pprint(hv_results[0]['property'][0]['assessment']['market']['mktTtlValue'])"
   ]
  },
  {
   "cell_type": "code",
   "execution_count": null,
   "metadata": {},
   "outputs": [],
   "source": [
    "# cont.\n",
    "# mkt_values = []\n",
    "\n",
    "# for a in aid_results:\n",
    "#     for p in a['property']:\n",
    "#         mkt_values.append(p['assessment']['market']['mktTtlValue'])\n",
    "\n",
    "# mkt_values"
   ]
  }
 ],
 "metadata": {
  "kernelspec": {
   "display_name": "Python [default]",
   "language": "python",
   "name": "python3"
  },
  "language_info": {
   "codemirror_mode": {
    "name": "ipython",
    "version": 3
   },
   "file_extension": ".py",
   "mimetype": "text/x-python",
   "name": "python",
   "nbconvert_exporter": "python",
   "pygments_lexer": "ipython3",
   "version": "3.6.5"
  }
 },
 "nbformat": 4,
 "nbformat_minor": 2
}
