{
 "cells": [
  {
   "cell_type": "code",
   "execution_count": 1,
   "metadata": {},
   "outputs": [],
   "source": [
    "# Dependencies\n",
    "import sys\n",
    "import time\n",
    "import json\n",
    "import requests\n",
    "import importlib\n",
    "import numpy as np\n",
    "import pandas as pd\n",
    "from pprint import pprint\n",
    "import matplotlib.pyplot as plt\n",
    "from config import gkey, zkey, zws_id, akey"
   ]
  },
  {
   "cell_type": "code",
   "execution_count": 2,
   "metadata": {},
   "outputs": [
    {
     "name": "stdout",
     "output_type": "stream",
     "text": [
      "Target city: atlanta\n",
      "Search radius: 1\n"
     ]
    }
   ],
   "source": [
    "# get list of zipcodes\n",
    "%run ./write_zips.ipynb\n",
    "import zipcodes\n",
    "importlib.reload(zipcodes)\n",
    "zip_codes = zipcodes.ziplist"
   ]
  },
  {
   "cell_type": "code",
   "execution_count": 3,
   "metadata": {},
   "outputs": [],
   "source": [
    "# get http request headers\n",
    "def getHeaders():\n",
    "    headers = {\n",
    "        \"apikey\":akey,\n",
    "        \"accept\":\"application/json\"\n",
    "    }\n",
    "    return headers\n",
    "\n",
    "\n",
    "# GET /property/address via zip code\n",
    "def fetch(url, params):\n",
    "    headers = getHeaders()\n",
    "    res = requests.get(url, headers=headers, params=params).json()\n",
    "    return res\n",
    "\n",
    "\n",
    "# show load bar and wait for next request\n",
    "def wait(t):    \n",
    "    sys.stdout.write('.')\n",
    "    sys.stdout.flush()\n",
    "    time.sleep(t)"
   ]
  },
  {
   "cell_type": "code",
   "execution_count": null,
   "metadata": {
    "scrolled": true
   },
   "outputs": [
    {
     "name": "stdout",
     "output_type": "stream",
     "text": [
      "working................"
     ]
    }
   ],
   "source": [
    "# get properties for each zip code (10 queries/min)\n",
    "url = \"https://search.onboard-apis.com/propertyapi/v1.0.0/property/address?\"\n",
    "property_results = []\n",
    "prop_types = ['RESIDENTIAL (NEC)', 'CONDOMINIUM', \n",
    "              'APARTMENT', 'CABIN', 'DUPLEX', \n",
    "              'MANUFACTURED HOME', 'MOBILE HOME',\n",
    "              'TRIPLEX', 'TOWNHOUSE/ROWHOUSE']\n",
    "\n",
    "sys.stdout.write('working..')\n",
    "\n",
    "for z in zip_codes:\n",
    "    for pt in prop_types:\n",
    "        params = {\n",
    "            \"postalcode\": z,\n",
    "            \"propertytype\": pt,\n",
    "            \"pagesize\": \"100\"\n",
    "        }\n",
    "\n",
    "        res = fetch(url, params)\n",
    "\n",
    "        property_results.append(res)\n",
    "        wait(10)"
   ]
  },
  {
   "cell_type": "code",
   "execution_count": null,
   "metadata": {},
   "outputs": [],
   "source": [
    "# get attomIds from property results\n",
    "properties = []\n",
    "attomIds = []\n",
    "\n",
    "for p in property_results:\n",
    "    for q in p['property']:\n",
    "        properties.append(q)\n",
    "\n",
    "props_df = pd.DataFrame(properties)\n",
    "attomId_series = props_df['identifier']\n",
    "\n",
    "for a in attomId_series:\n",
    "    attomIds.append(a['attomId'])"
   ]
  },
  {
   "cell_type": "code",
   "execution_count": null,
   "metadata": {
    "scrolled": false
   },
   "outputs": [],
   "source": [
    "# get home values for each property (10 queries/min)\n",
    "url = \"https://search.onboard-apis.com/propertyapi/v1.0.0/property/basicprofile?\"\n",
    "hv_results = []\n",
    "\n",
    "sys.stdout.write(\"working..\")\n",
    "\n",
    "for a in attomIds:\n",
    "    params = {\n",
    "        \"attomId\": a,\n",
    "        \"page\":\"1\",\n",
    "        \"pagesize\":\"100\"\n",
    "    }\n",
    "\n",
    "    idres = fetch(url, params)\n",
    "    hv_results.append(idres)    \n",
    "    wait(10)"
   ]
  },
  {
   "cell_type": "code",
   "execution_count": null,
   "metadata": {
    "scrolled": false
   },
   "outputs": [],
   "source": [
    "prop_res = pd.DataFrame(hv_results)\n",
    "props = prop_res['property']\n",
    "zcmkv = []\n",
    "\n",
    "for i in range(len(props)):\n",
    "    zcmkv.append({\"zipcode\":props[i][0]['address']['postal1'], \"avg_mkt_val\":int(props[i][0]['assessment']['market']['mktTtlValue'])})\n",
    "\n",
    "zips_mktvals_df = pd.DataFrame(zcmkv).set_index('zipcode')\n",
    "mkt_avg = zips_mktvals_df.groupby('zipcode').sum()/len(props)\n",
    "\n",
    "mkt_avg_df = pd.DataFrame(mkt_avg)\n",
    "mkt_avg_df = mkt_avg_df.reset_index()\n",
    "mkt_avg_df.style.format({'avg_mkt_val':'${:,.2f}'})"
   ]
  }
 ],
 "metadata": {
  "kernelspec": {
   "display_name": "Python [default]",
   "language": "python",
   "name": "python3"
  },
  "language_info": {
   "codemirror_mode": {
    "name": "ipython",
    "version": 3
   },
   "file_extension": ".py",
   "mimetype": "text/x-python",
   "name": "python",
   "nbconvert_exporter": "python",
   "pygments_lexer": "ipython3",
   "version": "3.6.5"
  }
 },
 "nbformat": 4,
 "nbformat_minor": 2
}
