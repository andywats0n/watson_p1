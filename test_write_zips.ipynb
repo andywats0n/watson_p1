{
 "cells": [
  {
   "cell_type": "code",
   "execution_count": 9,
   "metadata": {},
   "outputs": [],
   "source": [
    "# Dependencies\n",
    "import requests\n",
    "import json\n",
    "from pprint import pprint\n",
    "import pandas as pd\n",
    "import numpy as np\n",
    "import time\n",
    "from datetime import datetime\n",
    "import utils\n",
    "\n",
    "# api keys\n",
    "from config import gkey, zkey, zws_id, akey"
   ]
  },
  {
   "cell_type": "code",
   "execution_count": 10,
   "metadata": {},
   "outputs": [],
   "source": [
    "target_city = 'atlanta'\n",
    "distance = 1\n",
    "\n",
    "params = {\n",
    "    \"address\": target_city,\n",
    "    \"key\": gkey\n",
    "}\n",
    "\n",
    "base_url = \"https://maps.googleapis.com/maps/api/geocode/json\"\n",
    "res = requests.get(base_url, params=params).json()\n",
    "lat = res[\"results\"][0][\"geometry\"][\"location\"][\"lat\"]\n",
    "lng = res[\"results\"][0][\"geometry\"][\"location\"][\"lng\"]\n",
    "state = res[\"results\"][0][\"address_components\"][2][\"short_name\"]"
   ]
  },
  {
   "cell_type": "code",
   "execution_count": 11,
   "metadata": {},
   "outputs": [
    {
     "data": {
      "text/plain": [
       "'30337'"
      ]
     },
     "execution_count": 11,
     "metadata": {},
     "output_type": "execute_result"
    }
   ],
   "source": [
    "params = {\n",
    "    \"latlng\":f\"{lat},{lng}\",\n",
    "    \"result_type\":\"postal_code\",\n",
    "    \"key\":gkey\n",
    "}\n",
    "\n",
    "res_zips = requests.get(f\"https://maps.googleapis.com/maps/api/geocode/json\", params=params).json()\n",
    "zip_code = res_zips['results'][0]['address_components'][0]['long_name']\n",
    "zip_code"
   ]
  },
  {
   "cell_type": "code",
   "execution_count": null,
   "metadata": {},
   "outputs": [],
   "source": [
    "# Get the list of zips \n",
    "params = {\n",
    "    \"zip\":zip_code,\n",
    "    \"distance\":distance,\n",
    "    \"key\":\"w5DH9cOm06H85IaoFqaAX8VS14jPR9aXiskkhVzXWKZ6KSTiy0LJobTH0VRuJRNr\"\n",
    "}\n",
    "\n",
    "url = \"https://www.zipcodeapi.com/rest/{key}/radius.json/{zip}/{distance}/mile\".format(**params)\n",
    "res = utils.fetch(url)\n",
    "zips = res['response'].json()"
   ]
  },
  {
   "cell_type": "code",
   "execution_count": null,
   "metadata": {
    "scrolled": false
   },
   "outputs": [],
   "source": [
    "zips_df = pd.DataFrame(zips['zip_codes'])\n",
    "ziplist = zips_df['zip_code'].values"
   ]
  },
  {
   "cell_type": "code",
   "execution_count": null,
   "metadata": {},
   "outputs": [],
   "source": [
    "utils.write_zipcodes(ziplist)"
   ]
  },
  {
   "cell_type": "code",
   "execution_count": 15,
   "metadata": {},
   "outputs": [
    {
     "data": {
      "text/plain": [
       "{'Response': {'status': {'version': '1.0.0',\n",
       "   'code': '401',\n",
       "   'msg': 'Usage limits are exceeded with POISearchGeography',\n",
       "   'total': '0',\n",
       "   'page': '0',\n",
       "   'pagesize': '0'}}}"
      ]
     },
     "execution_count": 15,
     "metadata": {},
     "output_type": "execute_result"
    }
   ],
   "source": [
    "params = {\n",
    "#     \"postalcode\":zip_code,\n",
    "#     \"propertytype\":\"RESIDENTIAL%20(NEC)\",\n",
    "#     \"orderby\":\"saleamt\",\n",
    "#     \"page\":\"1\",\n",
    "#     \"pagesize\":\"10\"\n",
    "    \"postalcodekey\":\"10005\",\n",
    "    \"searchdistance\":\"5\",\n",
    "    \"recordlimit\":\"20\"\n",
    "}\n",
    "\n",
    "headers = {\n",
    "    \"APIkey\":\"423071bcc152d627dd977b9570c3aba4\",\n",
    "    \"Accept\":\"application/json\"\n",
    "}\n",
    "\n",
    "attom_url = f\"https://search.onboard-apis.com/poisearch/v2.0.0/poi/geography?\"\n",
    "\n",
    "res = requests.get(attom_url, headers=headers, params=params).json()\n",
    "res"
   ]
  },
  {
   "cell_type": "code",
   "execution_count": null,
   "metadata": {},
   "outputs": [],
   "source": []
  }
 ],
 "metadata": {
  "kernelspec": {
   "display_name": "Python [conda env:Anaconda3]",
   "language": "python",
   "name": "conda-env-Anaconda3-py"
  },
  "language_info": {
   "codemirror_mode": {
    "name": "ipython",
    "version": 3
   },
   "file_extension": ".py",
   "mimetype": "text/x-python",
   "name": "python",
   "nbconvert_exporter": "python",
   "pygments_lexer": "ipython3",
   "version": "3.6.5"
  }
 },
 "nbformat": 4,
 "nbformat_minor": 2
}
