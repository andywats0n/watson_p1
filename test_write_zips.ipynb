{
 "cells": [
  {
   "cell_type": "code",
   "execution_count": null,
   "metadata": {},
   "outputs": [],
   "source": [
    "# Dependencies\n",
    "import sys\n",
    "import matplotlib.pyplot as plt\n",
    "import requests\n",
    "import json\n",
    "from pprint import pprint\n",
    "import pandas as pd\n",
    "import numpy as np\n",
    "import time\n",
    "from datetime import datetime\n",
    "\n",
    "# Google API Key\n",
    "from config import gkey"
   ]
  },
  {
   "cell_type": "code",
   "execution_count": null,
   "metadata": {},
   "outputs": [],
   "source": [
    "# 1. What are the geocoordinates (latitude and longitude) of Seattle,\n",
    "# Washington?\n",
    "target_city = 'atlanta' #input(\"Please input the city where you would like to move : \")\n",
    "distance = 1 #int(input(\"Please input the radius around the city : \"))\n",
    "\n",
    "params = {\"address\": target_city, \"key\": gkey}\n",
    "\n",
    "# Build URL using the Google Maps API\n",
    "base_url = \"https://maps.googleapis.com/maps/api/geocode/json\"\n",
    "\n",
    "# print(f\" The Geocoordinates of {target_city} is\")\n",
    "\n",
    "# Run request\n",
    "res = requests.get(base_url, params=params).json()\n",
    "\n",
    "# Convert to JSON\n",
    "# pprint(res)\n",
    "\n",
    "# Extract lat/lng\n",
    "lat = res[\"results\"][0][\"geometry\"][\"location\"][\"lat\"]\n",
    "lng = res[\"results\"][0][\"geometry\"][\"location\"][\"lng\"]\n",
    "state = res[\"results\"][0][\"address_components\"][2][\"short_name\"]"
   ]
  },
  {
   "cell_type": "code",
   "execution_count": null,
   "metadata": {},
   "outputs": [],
   "source": [
    "# print(f\"city:  {target_city}\\nlat:   {lat}\\nlng:  {lng}\\nstate: {state}\")"
   ]
  },
  {
   "cell_type": "markdown",
   "metadata": {},
   "source": [
    "# andy w. [6:36 PM]\n",
    "@Reema\n",
    "https://developers.google.com/maps/documentation/geocoding/intro#ReverseGeocoding\n",
    "https://maps.googleapis.com/maps/api/geocode/json?latlng=40.714224,-73.961452&key={YOUR_API_KEY}"
   ]
  },
  {
   "cell_type": "code",
   "execution_count": null,
   "metadata": {},
   "outputs": [],
   "source": [
    "params = {\n",
    "    \"latlng\":f\"{lat},{lng}\",\n",
    "    \"result_type\":\"postal_code\",\n",
    "    \"key\":gkey\n",
    "}\n",
    "\n",
    "res_zips = requests.get(f\"https://maps.googleapis.com/maps/api/geocode/json\", params=params).json()\n",
    "zip_code = res_zips['results'][0]['address_components'][0]['long_name']\n",
    "# print(f\"city:   {target_city}\\nlatlng: ({lat}, {lng})\\nstate:  {state}\\nzip:    {zip_code}\")"
   ]
  },
  {
   "cell_type": "code",
   "execution_count": null,
   "metadata": {},
   "outputs": [],
   "source": [
    "url = 'https://google.com/key={key}/result_type={result_type}/latlng={latlng}'\n",
    "url, url.format(**params)"
   ]
  },
  {
   "cell_type": "code",
   "execution_count": null,
   "metadata": {},
   "outputs": [],
   "source": [
    "def get_units(size):\n",
    "    power = 2**10\n",
    "    n = 0\n",
    "    dict_powerN = {0 : '', 1: 'K', 2: 'M', 3: 'B', 4: 'T'}\n",
    "    while size > power:\n",
    "        size /=  power\n",
    "        n += 1\n",
    "    return f\"{'{:.2f}'.format(size)}{dict_powerN[n]+'B'}\"\n",
    "\n",
    "\n",
    "def fetch(url):\n",
    "    res = requests.get(url)\n",
    "    size = get_units(len(res.content))\n",
    "    return {\"response\":res, \"size\":size}"
   ]
  },
  {
   "cell_type": "code",
   "execution_count": null,
   "metadata": {},
   "outputs": [],
   "source": [
    "# Get the list of zips \n",
    "params = {\n",
    "    \"zip\":zip_code,\n",
    "    \"distance\":distance,\n",
    "    \"key\":\"w5DH9cOm06H85IaoFqaAX8VS14jPR9aXiskkhVzXWKZ6KSTiy0LJobTH0VRuJRNr\"\n",
    "}\n",
    "\n",
    "url = \"https://www.zipcodeapi.com/rest/{key}/radius.json/{zip}/{distance}/mile\".format(**params)\n",
    "res = fetch(url)\n",
    "zips = res['response'].json()"
   ]
  },
  {
   "cell_type": "code",
   "execution_count": null,
   "metadata": {
    "scrolled": false
   },
   "outputs": [],
   "source": [
    "zips_df = pd.DataFrame(zips['zip_codes'])\n",
    "ziplist = zips_df['zip_code'].values\n",
    "# ziplist"
   ]
  },
  {
   "cell_type": "code",
   "execution_count": null,
   "metadata": {},
   "outputs": [],
   "source": [
    "with open(\"zipcodes.py\", \"w\") as zipcodes:\n",
    "    zipcodes.write(f\"ziplist = {[zip for zip in ziplist]}\")"
   ]
  }
 ],
 "metadata": {
  "kernelspec": {
   "display_name": "Python [conda env:anaconda3]",
   "language": "python",
   "name": "conda-env-anaconda3-py"
  },
  "language_info": {
   "codemirror_mode": {
    "name": "ipython",
    "version": 3
   },
   "file_extension": ".py",
   "mimetype": "text/x-python",
   "name": "python",
   "nbconvert_exporter": "python",
   "pygments_lexer": "ipython3",
   "version": "3.6.5"
  }
 },
 "nbformat": 4,
 "nbformat_minor": 2
}
