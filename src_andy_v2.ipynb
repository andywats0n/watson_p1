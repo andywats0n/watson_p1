{
 "cells": [
  {
   "cell_type": "code",
   "execution_count": 1,
   "metadata": {},
   "outputs": [],
   "source": [
    "# Dependencies\n",
    "import matplotlib.pyplot as plt\n",
    "import requests\n",
    "import json\n",
    "from pprint import pprint\n",
    "import pandas as pd\n",
    "import numpy as np\n",
    "import time\n",
    "from datetime import datetime\n",
    "import xmltodict as xtd\n",
    "import xml.etree.cElementTree as ET\n",
    "import zillow\n",
    "import importlib\n",
    "\n",
    "# API Keys\n",
    "from config import gkey, zkey, zws_id"
   ]
  },
  {
   "cell_type": "code",
   "execution_count": 2,
   "metadata": {
    "scrolled": true
   },
   "outputs": [
    {
     "name": "stdout",
     "output_type": "stream",
     "text": [
      "city:   atlanta\n",
      "latlng: 33.7489954, -84.3879824\n",
      "state:  GA\n",
      "zip:    30334\n"
     ]
    }
   ],
   "source": [
    "# target_city = input(\"Please input the city where you would like to move : \")\n",
    "# radius=int(input(\"Please input the radius around the city : \"))\n",
    "\n",
    "target_city = 'atlanta'\n",
    "\n",
    "params = {\n",
    "    \"address\": target_city,\n",
    "    \"key\": gkey\n",
    "}\n",
    "\n",
    "# Build URL using the Google Maps API\n",
    "base_url = \"https://maps.googleapis.com/maps/api/geocode/json\"\n",
    "\n",
    "# Run request\n",
    "res = requests.get(base_url, params=params).json()\n",
    "\n",
    "# Convert to JSON\n",
    "# target_geo = response.json()\n",
    "# pprint(target_geo)\n",
    "\n",
    "# Extract lat/lng\n",
    "lat = res[\"results\"][0][\"geometry\"][\"location\"][\"lat\"]\n",
    "lng = res[\"results\"][0][\"geometry\"][\"location\"][\"lng\"]\n",
    "state = res[\"results\"][0][\"address_components\"][2][\"short_name\"]\n",
    "\n",
    "params = {\n",
    "    \"latlng\":f\"{lat},{lng}\",\n",
    "    \"result_type\":\"postal_code\",\n",
    "    \"key\":gkey\n",
    "}\n",
    "\n",
    "pcode_query = requests.get(f\"https://maps.googleapis.com/maps/api/geocode/json\", params=params).json()\n",
    "zip_code = pcode_query['results'][0]['address_components'][0]['long_name']\n",
    "# Print results\n",
    "print(f\"city:   {target_city}\\nlatlng: {lat}, {lng}\\nstate:  {state}\\nzip:    {zip_code}\")"
   ]
  },
  {
   "cell_type": "code",
   "execution_count": 3,
   "metadata": {},
   "outputs": [
    {
     "data": {
      "text/plain": [
       "<module 'zipcodes' from 'C:\\\\Users\\\\andy.watson\\\\GTDATA\\\\projects\\\\watson_p1\\\\zipcodes.py'>"
      ]
     },
     "execution_count": 3,
     "metadata": {},
     "output_type": "execute_result"
    }
   ],
   "source": [
    "%run ./write_zips.ipynb\n",
    "import zipcodes\n",
    "importlib.reload(zipcodes)"
   ]
  },
  {
   "cell_type": "code",
   "execution_count": 5,
   "metadata": {},
   "outputs": [],
   "source": [
    "url = \"http://www.zillow.com/webservice/GetRegionChildren.htm\"\n",
    "params = {\n",
    "    \"state\":state,\n",
    "    \"childtype\":\"zipcode\",\n",
    "    \"zws-id\":zws_id\n",
    "}\n",
    "\n",
    "res = requests.get(url, params=params)"
   ]
  },
  {
   "cell_type": "code",
   "execution_count": 6,
   "metadata": {},
   "outputs": [],
   "source": [
    "doc = xtd.parse(res.text)"
   ]
  },
  {
   "cell_type": "code",
   "execution_count": 18,
   "metadata": {
    "scrolled": false
   },
   "outputs": [
    {
     "ename": "NameError",
     "evalue": "name 'zindex' is not defined",
     "output_type": "error",
     "traceback": [
      "\u001b[1;31m---------------------------------------------------------------------------\u001b[0m",
      "\u001b[1;31mNameError\u001b[0m                                 Traceback (most recent call last)",
      "\u001b[1;32m<ipython-input-18-4a7cc6e4a216>\u001b[0m in \u001b[0;36m<module>\u001b[1;34m()\u001b[0m\n\u001b[0;32m      4\u001b[0m \u001b[1;31m# price_df['zindex']\u001b[0m\u001b[1;33m\u001b[0m\u001b[1;33m\u001b[0m\u001b[0m\n\u001b[0;32m      5\u001b[0m \u001b[1;32mfor\u001b[0m \u001b[0mi\u001b[0m\u001b[1;33m,\u001b[0m\u001b[0mp\u001b[0m \u001b[1;32min\u001b[0m \u001b[0mprices\u001b[0m\u001b[1;33m:\u001b[0m\u001b[1;33m\u001b[0m\u001b[0m\n\u001b[1;32m----> 6\u001b[1;33m     \u001b[0mprint\u001b[0m\u001b[1;33m(\u001b[0m\u001b[0mzindex\u001b[0m\u001b[1;33m[\u001b[0m\u001b[0mp\u001b[0m\u001b[1;33m]\u001b[0m\u001b[1;33m)\u001b[0m\u001b[1;33m\u001b[0m\u001b[0m\n\u001b[0m",
      "\u001b[1;31mNameError\u001b[0m: name 'zindex' is not defined"
     ]
    }
   ],
   "source": [
    "df = pd.DataFrame(doc['RegionChildren:regionchildren']['response']['list']['region'])\n",
    "prices = df['zindex']\n",
    "price_df = pd.DataFrame(prices)\n",
    "# price_df['zindex']\n",
    "for index,p in prices:\n",
    "    print(zindex[p])"
   ]
  },
  {
   "cell_type": "code",
   "execution_count": null,
   "metadata": {
    "scrolled": false
   },
   "outputs": [],
   "source": [
    "# for i, p in enumerate(zdf):\n",
    "#     print(zdf['zindex'][p]['#text'])\n",
    "# zindex = zcp_df['zindex']\n",
    "# zcp_df[0]['#text']\n",
    "# zindex[1]\n",
    "\n",
    "# zips_prices_df = zdf[['name', 'zindex']]\n",
    "# prices = zips_prices_df['zindex']\n",
    "# # for i,p in enumerate(zips_prices_df):\n",
    "#     print(prices[i]['#text'])\n",
    "#     print(zips_prices_df[name][i], zips_prices_df['zindex'][i]['#text'])"
   ]
  },
  {
   "cell_type": "code",
   "execution_count": null,
   "metadata": {},
   "outputs": [],
   "source": [
    "api = zillow.ValuationApi()\n",
    "zpid=\"2100641621\"\n",
    "detail_data = api.GetZEstimate(zws_id, zpid)\n",
    "address = detail_data.full_address.get_dict()\n",
    "address['zipcode']\n",
    "# adf = pd.DataFrame(address, index=[0])\n",
    "# adf"
   ]
  },
  {
   "cell_type": "code",
   "execution_count": null,
   "metadata": {},
   "outputs": [],
   "source": [
    "zdf = detail_data.get_dict()\n",
    "pd.DataFrame(zdf).head()"
   ]
  },
  {
   "cell_type": "code",
   "execution_count": null,
   "metadata": {},
   "outputs": [],
   "source": [
    "address = \"3400 Pacific Ave., Marina Del Rey, CA\"\n",
    "postal_code = \"90292\"\n",
    "\n",
    "data = api.GetDeepSearchResults(zws_id, address, postal_code)"
   ]
  },
  {
   "cell_type": "code",
   "execution_count": null,
   "metadata": {},
   "outputs": [],
   "source": [
    "dsr = data.get_dict()\n",
    "pd.DataFrame(dsr).head()"
   ]
  }
 ],
 "metadata": {
  "kernelspec": {
   "display_name": "Python 3",
   "language": "python",
   "name": "python3"
  },
  "language_info": {
   "codemirror_mode": {
    "name": "ipython",
    "version": 3
   },
   "file_extension": ".py",
   "mimetype": "text/x-python",
   "name": "python",
   "nbconvert_exporter": "python",
   "pygments_lexer": "ipython3",
   "version": "3.6.5"
  }
 },
 "nbformat": 4,
 "nbformat_minor": 2
}
