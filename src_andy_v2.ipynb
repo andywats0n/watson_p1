{
 "cells": [
  {
   "cell_type": "code",
   "execution_count": 2,
   "metadata": {},
   "outputs": [],
   "source": [
    "# Dependencies\n",
    "import matplotlib.pyplot as plt\n",
    "import requests\n",
    "import json\n",
    "from pprint import pprint\n",
    "import pandas as pd\n",
    "import numpy as np\n",
    "import time\n",
    "from datetime import datetime\n",
    "import xmltodict as xtd\n",
    "import xml.etree.cElementTree as ET\n",
    "import zillow\n",
    "import importlib\n",
    "import sys\n",
    "\n",
    "# API Keys\n",
    "from config import gkey, zkey, zws_id, akey"
   ]
  },
  {
   "cell_type": "code",
   "execution_count": null,
   "metadata": {
    "scrolled": true
   },
   "outputs": [],
   "source": [
    "target_city = 'atlanta'\n",
    "params = {\n",
    "    \"address\": target_city,\n",
    "    \"key\": gkey\n",
    "}\n",
    "\n",
    "base_url = \"https://maps.googleapis.com/maps/api/geocode/json\"\n",
    "\n",
    "res = requests.get(base_url, params=params).json()\n",
    "\n",
    "lat = res[\"results\"][0][\"geometry\"][\"location\"][\"lat\"]\n",
    "lng = res[\"results\"][0][\"geometry\"][\"location\"][\"lng\"]\n",
    "state = res[\"results\"][0][\"address_components\"][2][\"short_name\"]\n",
    "\n",
    "params = {\n",
    "    \"latlng\":f\"{lat},{lng}\",\n",
    "    \"result_type\":\"postal_code\",\n",
    "    \"key\":gkey\n",
    "}\n",
    "\n",
    "res = requests.get(f\"https://maps.googleapis.com/maps/api/geocode/json\", params=params).json()\n",
    "zip_code = res['results'][0]['address_components'][0]['long_name']\n",
    "\n",
    "print(f\"city:   {target_city}\\nlatlng: {lat}, {lng}\\nstate:  {state}\\nzip:    {zip_code}\")"
   ]
  },
  {
   "cell_type": "code",
   "execution_count": null,
   "metadata": {},
   "outputs": [],
   "source": [
    "%run ./write_zips.ipynb\n",
    "import zipcodes\n",
    "importlib.reload(zipcodes)"
   ]
  },
  {
   "cell_type": "code",
   "execution_count": null,
   "metadata": {
    "scrolled": true
   },
   "outputs": [],
   "source": [
    "url = \"https://search.onboard-apis.com/propertyapi/v1.0.0/property/address?\"\n",
    "loading = '..'\n",
    "results = []\n",
    "\n",
    "sys.stdout.write('getting properties..')\n",
    "\n",
    "for z in zipcodes.ziplist:\n",
    "    params = {\n",
    "        \"postalcode\": z,\n",
    "        \"propertytype\":\"RESIDENTIAL (NEC)\",\n",
    "        \"pagesize\":\"100\"\n",
    "    }\n",
    "\n",
    "    headers = {\n",
    "        \"apikey\":akey,\n",
    "        \"accept\":\"application/json\"\n",
    "    }\n",
    "\n",
    "    res = requests.get(url, headers=headers, params=params).json()\n",
    "    \n",
    "    if(res['status']['msg'] == \"SuccessWithoutResult\"):\n",
    "        sys.stdout.write(loading)\n",
    "        sys.stdout.flush()\n",
    "        time.sleep(10)\n",
    "        continue\n",
    "    else:\n",
    "        sys.stdout.write(f\"found {len(results)+1}\")\n",
    "        results.append(res)\n",
    "        time.sleep(10)"
   ]
  },
  {
   "cell_type": "code",
   "execution_count": null,
   "metadata": {},
   "outputs": [],
   "source": [
    "properties = []\n",
    "zws_params = []\n",
    "zids = []\n",
    "\n",
    "for p in results:\n",
    "    for q in p['property']:\n",
    "        properties.append(q)\n",
    "\n",
    "props_df = pd.DataFrame(properties)\n",
    "addressId_df = props_df[['address','identifier']]\n",
    "\n",
    "for i, j in addressId_df.itertuples(index=False):\n",
    "    zids.append({\"zipcode\":i['postal1'], \"attomId\":j['attomId']})\n",
    "    \n",
    "zids"
   ]
  },
  {
   "cell_type": "code",
   "execution_count": null,
   "metadata": {
    "scrolled": false
   },
   "outputs": [],
   "source": [
    "url = \"https://search.onboard-apis.com/propertyapi/v1.0.0/property/basicprofile?\"\n",
    "zid_results = []\n",
    "\n",
    "sys.stdout.write(\"getting home values..\")\n",
    "\n",
    "for z in zids:\n",
    "    price_params = {\n",
    "        \"attomId\": z['attomId']\n",
    "    }\n",
    "\n",
    "    price_res = requests.get(url, headers=headers, params=price_params).json()\n",
    "    sys.stdout.write(loading)\n",
    "    sys.stdout.flush()\n",
    "    zid_results.append({\"attomId\": z['attomId'], \"zip_code\":z['zipcode'], \"market_value\":price_res})\n",
    "    time.sleep(10)"
   ]
  },
  {
   "cell_type": "code",
   "execution_count": null,
   "metadata": {},
   "outputs": [],
   "source": [
    "mkt_values = []\n",
    "\n",
    "for a in aid_results:\n",
    "    for p in a['property']:\n",
    "        mkt_values.append(p['assessment']['market']['mktTtlValue'])\n",
    "\n",
    "mkt_values"
   ]
  },
  {
   "cell_type": "code",
   "execution_count": null,
   "metadata": {},
   "outputs": [],
   "source": [
    "# api = zillow.ValuationApi()\n",
    "# home_prices = []\n",
    "\n",
    "# for i, z in enumerate(zws_params):\n",
    "#     try:\n",
    "#         zres = api.GetSearchResults(zws_id, z['address'], z['zipcode'], True)\n",
    "#         price = zres.get_dict()['zestimate']['amount']\n",
    "#         home_prices.append({\"zipcode\":z['zipcode'], \"price\":price})\n",
    "#     except zillow.ZillowError as e:\n",
    "#         print(e.message)\n",
    "\n",
    "# home_prices"
   ]
  },
  {
   "cell_type": "code",
   "execution_count": null,
   "metadata": {},
   "outputs": [],
   "source": [
    "# api = zillow.ValuationApi()\n",
    "# # home_prices = []\n",
    "\n",
    "# # for i, z in enumerate(zws_params):\n",
    "# #     try:\n",
    "# zres = api.GetSearchResults(zws_id, zws_params[1]['address'], zws_params[2]['zipcode'], True)\n",
    "# price = zres.get_dict()['zestimate']['amount']\n",
    "# print(price)\n",
    "# #         home_prices.append({\"zipcode\":z['zipcode'], \"price\":price})\n",
    "# #     except zillow.ZillowError as e:\n",
    "# #         print(e.message)\n",
    "\n",
    "# # home_prices"
   ]
  }
 ],
 "metadata": {
  "kernelspec": {
   "display_name": "Python [default]",
   "language": "python",
   "name": "python3"
  },
  "language_info": {
   "codemirror_mode": {
    "name": "ipython",
    "version": 3
   },
   "file_extension": ".py",
   "mimetype": "text/x-python",
   "name": "python",
   "nbconvert_exporter": "python",
   "pygments_lexer": "ipython3",
   "version": "3.6.5"
  }
 },
 "nbformat": 4,
 "nbformat_minor": 2
}
